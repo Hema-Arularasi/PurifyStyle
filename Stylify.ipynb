{
 "cells": [
  {
   "cell_type": "code",
   "execution_count": 1,
   "id": "d7f89129",
   "metadata": {},
   "outputs": [
    {
     "name": "stdout",
     "output_type": "stream",
     "text": [
      "Defaulting to user installation because normal site-packages is not writeable\n",
      "Requirement already satisfied: tensorflow_hub in c:\\users\\admin\\appdata\\roaming\\python\\python39\\site-packages (0.15.0)\n",
      "Requirement already satisfied: protobuf>=3.19.6 in c:\\users\\admin\\appdata\\roaming\\python\\python39\\site-packages (from tensorflow_hub) (4.23.3)\n",
      "Requirement already satisfied: numpy>=1.12.0 in c:\\users\\admin\\appdata\\roaming\\python\\python39\\site-packages (from tensorflow_hub) (1.22.4)\n"
     ]
    }
   ],
   "source": [
    "!pip install tensorflow_hub"
   ]
  },
  {
   "cell_type": "code",
   "execution_count": 1,
   "id": "73569060",
   "metadata": {},
   "outputs": [],
   "source": [
    "import tensorflow as tf\n",
    "import tensorflow_hub as hub\n",
    "import cv2\n",
    "import numpy as np\n",
    "\n",
    "def load_img(path_to_img):\n",
    "    img = tf.io.read_file(path_to_img)\n",
    "    img = tf.image.decode_image(img, channels=3)\n",
    "    img = tf.image.convert_image_dtype(img, tf.float32)\n",
    "    img = img[tf.newaxis, :]\n",
    "    return img\n",
    "\n",
    "def tensor_to_image(tensor):\n",
    "    tensor = tensor*255\n",
    "    tensor = np.array(tensor, dtype=np.uint8)\n",
    "    if np.ndim(tensor) > 3:\n",
    "        assert tensor.shape[0] == 1\n",
    "        tensor = tensor[0]\n",
    "    return tensor\n",
    "\n",
    "content_path = \"C:/Users/ADMIN/Downloads/content.jpg\"\n",
    "style_path = \"C:/Users/ADMIN/Downloads/style.jpg\"\n",
    "\n",
    "dog_image = load_img(content_path)\n",
    "style_image = load_img(style_path)\n",
    "\n",
    "# Convert TensorFlow tensors to NumPy arrays for display\n",
    "dog_np = tensor_to_image(dog_image.numpy())\n",
    "style_np = tensor_to_image(style_image.numpy())\n",
    "color = cv2.cvtColor(dog_np, cv2.COLOR_BGR2RGB)\n",
    "# Display the dog image\n",
    "cv2.imshow('Dog Image', color)\n",
    "cv2.waitKey(0)\n",
    "cv2.destroyAllWindows()\n",
    "\n",
    "# Display the style image\n",
    "cv2.imshow('Style Image', style_np)\n",
    "cv2.waitKey(0)\n",
    "cv2.destroyAllWindows()\n",
    "\n",
    "# Load the style transfer model from TF Hub\n",
    "hub_model = hub.load('https://tfhub.dev/google/magenta/arbitrary-image-stylization-v1-256/2')\n",
    "\n",
    "# Apply style transfer\n",
    "stylized_image = hub_model(tf.constant(dog_image), tf.constant(style_image))[0]\n",
    "\n",
    "# Convert the stylized image tensor to a NumPy array for display\n",
    "op = tensor_to_image(stylized_image)\n",
    "\n",
    "# Convert RGB to BGR for OpenCV display\n",
    "op_bgr = cv2.cvtColor(op, cv2.COLOR_RGB2BGR)\n",
    "\n",
    "# Display the stylized image\n",
    "cv2.imshow('Stylized Image', op_bgr)\n",
    "cv2.waitKey(0)\n",
    "cv2.destroyAllWindows()\n"
   ]
  },
  {
   "cell_type": "code",
   "execution_count": null,
   "id": "c9bf4969",
   "metadata": {},
   "outputs": [],
   "source": []
  }
 ],
 "metadata": {
  "kernelspec": {
   "display_name": "Python 3 (ipykernel)",
   "language": "python",
   "name": "python3"
  },
  "language_info": {
   "codemirror_mode": {
    "name": "ipython",
    "version": 3
   },
   "file_extension": ".py",
   "mimetype": "text/x-python",
   "name": "python",
   "nbconvert_exporter": "python",
   "pygments_lexer": "ipython3",
   "version": "3.9.12"
  }
 },
 "nbformat": 4,
 "nbformat_minor": 5
}
